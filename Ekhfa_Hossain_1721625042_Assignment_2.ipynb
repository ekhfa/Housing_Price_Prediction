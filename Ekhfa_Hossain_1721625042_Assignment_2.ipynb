{
  "nbformat": 4,
  "nbformat_minor": 0,
  "metadata": {
    "kernelspec": {
      "display_name": "Python 3",
      "language": "python",
      "name": "python3"
    },
    "language_info": {
      "codemirror_mode": {
        "name": "ipython",
        "version": 3
      },
      "file_extension": ".py",
      "mimetype": "text/x-python",
      "name": "python",
      "nbconvert_exporter": "python",
      "pygments_lexer": "ipython3",
      "version": "3.8.5"
    },
    "colab": {
      "name": "Ekhfa_Hossain-1721625042_Assignment-2.ipynb",
      "provenance": [],
      "collapsed_sections": []
    }
  },
  "cells": [
    {
      "cell_type": "markdown",
      "metadata": {
        "id": "bAdspTAzCkGb"
      },
      "source": [
        "# Task 1"
      ]
    },
    {
      "cell_type": "markdown",
      "metadata": {
        "id": "e-b8n4T2pSPw"
      },
      "source": [
        "Importing necessary libraies "
      ]
    },
    {
      "cell_type": "code",
      "metadata": {
        "colab": {
          "base_uri": "https://localhost:8080/"
        },
        "id": "ZvU8rkBuvdZi",
        "outputId": "70681dd1-3669-4bab-a833-b87f05cf721a"
      },
      "source": [
        "colab = True\r\n",
        "if colab:\r\n",
        "    # Mount drive\r\n",
        "    from google.colab import drive\r\n",
        "    drive.mount('/content/gdrive')\r\n",
        "    # Set path to working directory\r\n",
        "    import sys\r\n",
        "    sys.path.append('/content/gdrive/My Drive/Cse445/HousingPrice/')\r\n",
        "    %cd /content/gdrive/My\\ Drive/Cse445/HousingPrice/"
      ],
      "execution_count": 16,
      "outputs": [
        {
          "output_type": "stream",
          "text": [
            "Drive already mounted at /content/gdrive; to attempt to forcibly remount, call drive.mount(\"/content/gdrive\", force_remount=True).\n",
            "/content/gdrive/My Drive/Cse445/HousingPrice\n"
          ],
          "name": "stdout"
        }
      ]
    },
    {
      "cell_type": "code",
      "metadata": {
        "id": "SkC6iKSmCkG6"
      },
      "source": [
        "import numpy as np\n",
        "import pandas as pd\n",
        "import matplotlib.pyplot as plt\n",
        "\n",
        "# Read train and test data\n",
        "train = pd.read_csv('/content/gdrive/My Drive/Cse445/HousingPrice/train.csv')\n",
        "test = pd.read_csv('/content/gdrive/My Drive/Cse445/HousingPrice/test.csv')\n",
        "\n",
        "test_ids = test['Id']"
      ],
      "execution_count": 17,
      "outputs": []
    },
    {
      "cell_type": "markdown",
      "metadata": {
        "id": "c3SEBdr5CkG9"
      },
      "source": [
        "## Part a"
      ]
    },
    {
      "cell_type": "markdown",
      "metadata": {
        "id": "aOlvpRk6qcQP"
      },
      "source": [
        "**Missing data (Null Value) and Categorical data Handle**"
      ]
    },
    {
      "cell_type": "code",
      "metadata": {
        "scrolled": true,
        "id": "SNiTuN7ACkG_",
        "colab": {
          "base_uri": "https://localhost:8080/"
        },
        "outputId": "31b6b445-5148-4171-bcae-3ae8a5e66799"
      },
      "source": [
        "drop_candidates = []\n",
        "for label in train.columns:\n",
        "    if train[label].isnull().sum() >= 219:\n",
        "        drop_candidates.append(label)\n",
        "        print(label)\n",
        "        \n",
        "\n",
        "# Drop the columns\n",
        "train = train.drop(columns=drop_candidates)\n",
        "drop_candidates.append('Id')\n",
        "test = test.drop(columns=drop_candidates)"
      ],
      "execution_count": 18,
      "outputs": [
        {
          "output_type": "stream",
          "text": [
            "LotFrontage\n",
            "Alley\n",
            "FireplaceQu\n",
            "PoolQC\n",
            "Fence\n",
            "MiscFeature\n"
          ],
          "name": "stdout"
        }
      ]
    },
    {
      "cell_type": "code",
      "metadata": {
        "id": "xAuAdtNSCkHD"
      },
      "source": [
        "# Fill NAs\n",
        "for label in train.columns:\n",
        "    if (train[label].dtype == \"float64\" or train[label].dtype == \"int64\"):\n",
        "        train[label].fillna(train[label].mean(), inplace= True)\n",
        "        \n",
        "        if (label != 'SalePrice' and label != 'Id'):\n",
        "            test[label].fillna(test[label].mean(), inplace= True)\n",
        "    else:\n",
        "        train[label] = train[label].fillna('NA')\n",
        "        test[label] = test[label].fillna('NA')"
      ],
      "execution_count": 19,
      "outputs": []
    },
    {
      "cell_type": "markdown",
      "metadata": {
        "id": "Mx511CL3CkHE"
      },
      "source": [
        "## Part b"
      ]
    },
    {
      "cell_type": "markdown",
      "metadata": {
        "id": "2xmw0oWiqfBk"
      },
      "source": [
        "**Finding correlation matrix**"
      ]
    },
    {
      "cell_type": "code",
      "metadata": {
        "id": "s2QVTgQdCkHF"
      },
      "source": [
        "# Encode labels\n",
        "from sklearn import preprocessing\n",
        "le = preprocessing.LabelEncoder()\n",
        "labelsWhichRequireEncoding = ['MSSubClass','MSZoning','Street', 'LotShape','LandContour','Utilities','LotConfig','LandSlope','Neighborhood','Condition1','Condition2','BldgType','HouseStyle','RoofStyle','RoofMatl','Exterior1st','Exterior2nd','MasVnrType','ExterQual','ExterCond','Foundation','BsmtQual','BsmtCond','BsmtExposure','BsmtFinType1','BsmtFinType2','Heating','HeatingQC','CentralAir','Electrical','KitchenQual','Functional','GarageType','GarageFinish','GarageQual','GarageCond','PavedDrive','SaleType','SaleCondition', 'YearBuilt', 'YearRemodAdd', 'GarageYrBlt', 'MoSold', 'YrSold']\n",
        "for label in labelsWhichRequireEncoding:\n",
        "    train[label] = le.fit_transform(train[label].values)\n",
        "    test[label] = le.fit_transform(test[label].values)"
      ],
      "execution_count": 20,
      "outputs": []
    },
    {
      "cell_type": "markdown",
      "metadata": {
        "id": "GSUbN4y6CkHL"
      },
      "source": [
        "### Data Size and Shape"
      ]
    },
    {
      "cell_type": "code",
      "metadata": {
        "scrolled": true,
        "id": "sKg_DGcpCkHN",
        "colab": {
          "base_uri": "https://localhost:8080/"
        },
        "outputId": "8207c4a4-51fd-4911-d96d-8b011d8cadfe"
      },
      "source": [
        "print(\"Training data size (rows x columns):\", train.size)\n",
        "print(\"Test data size (rows x columns):\", test.size)\n",
        "print(\"Training data shape:\", train.shape)\n",
        "print(\"Test data shape:\", test.shape)"
      ],
      "execution_count": 21,
      "outputs": [
        {
          "output_type": "stream",
          "text": [
            "Training data size (rows x columns): 109500\n",
            "Test data size (rows x columns): 106507\n",
            "Training data shape: (1460, 75)\n",
            "Test data shape: (1459, 73)\n"
          ],
          "name": "stdout"
        }
      ]
    },
    {
      "cell_type": "markdown",
      "metadata": {
        "id": "7tAhZtXhCkHP"
      },
      "source": [
        "### Number of Attributes"
      ]
    },
    {
      "cell_type": "code",
      "metadata": {
        "id": "RyfD2QIGCkHQ",
        "colab": {
          "base_uri": "https://localhost:8080/"
        },
        "outputId": "46cc996d-7c4c-4b96-f6d7-aae6e95d7e74"
      },
      "source": [
        "print(\"Number of attributes (excluding ID):\", train.columns.size - 1)"
      ],
      "execution_count": 22,
      "outputs": [
        {
          "output_type": "stream",
          "text": [
            "Number of attributes (excluding ID): 74\n"
          ],
          "name": "stdout"
        }
      ]
    },
    {
      "cell_type": "markdown",
      "metadata": {
        "id": "liJehV2qCkHR"
      },
      "source": [
        "### Correlation Matrix"
      ]
    },
    {
      "cell_type": "code",
      "metadata": {
        "scrolled": true,
        "id": "W0DFyV3xCkHS",
        "colab": {
          "base_uri": "https://localhost:8080/"
        },
        "outputId": "b778999c-edcc-47dd-c226-e7b1a95c2bc9"
      },
      "source": [
        "corrmat = train.corr()\n",
        "print(corrmat)"
      ],
      "execution_count": 23,
      "outputs": [
        {
          "output_type": "stream",
          "text": [
            "                     Id  MSSubClass  ...  SaleCondition  SalePrice\n",
            "Id             1.000000    0.018745  ...      -0.005806  -0.021917\n",
            "MSSubClass     0.018745    1.000000  ...      -0.033097  -0.054751\n",
            "MSZoning      -0.006096    0.037785  ...       0.009494  -0.166872\n",
            "LotArea       -0.033226   -0.132505  ...       0.034169   0.263843\n",
            "Street         0.008916   -0.025737  ...       0.006064   0.041036\n",
            "...                 ...         ...  ...            ...        ...\n",
            "MoSold         0.021172    0.007052  ...       0.013320   0.046432\n",
            "YrSold         0.000712   -0.022100  ...       0.003880  -0.028923\n",
            "SaleType       0.019773    0.020195  ...       0.184067  -0.054911\n",
            "SaleCondition -0.005806   -0.033097  ...       1.000000   0.213092\n",
            "SalePrice     -0.021917   -0.054751  ...       0.213092   1.000000\n",
            "\n",
            "[75 rows x 75 columns]\n"
          ],
          "name": "stdout"
        }
      ]
    },
    {
      "cell_type": "markdown",
      "metadata": {
        "id": "hDEtCIfFCkHT"
      },
      "source": [
        "Here's the visualization of the correlation matrix:"
      ]
    },
    {
      "cell_type": "code",
      "metadata": {
        "id": "3_HfRlVnCkHU",
        "colab": {
          "base_uri": "https://localhost:8080/",
          "height": 606
        },
        "outputId": "00ccced6-5173-406b-d553-501ab58a6480"
      },
      "source": [
        "import seaborn as sns\n",
        "\n",
        "f, ax = plt.subplots(figsize=(12, 9))\n",
        "sns.heatmap(corrmat, vmax=.8, square=True);"
      ],
      "execution_count": 24,
      "outputs": [
        {
          "output_type": "display_data",
          "data": {
            "image/png": "[encoded data removed]",
            "text/plain": [
              "<Figure size 864x648 with 2 Axes>"
            ]
          },
          "metadata": {
            "tags": [],
            "needs_background": "light"
          }
        }
      ]
    },
    {
      "cell_type": "markdown",
      "metadata": {
        "id": "l_OHHWPVCkHV"
      },
      "source": [
        "## Part c\r\n",
        "Perform proper feature scaling to transform feature columns and target variable"
      ]
    },
    {
      "cell_type": "code",
      "metadata": {
        "id": "YCT1A6FvCkHW"
      },
      "source": [
        "# Split into X and Y\n",
        "X = train.iloc[:, 1:-1].values\n",
        "Y = train.iloc[:, -1].values\n",
        "\n",
        "# Split the dataset\n",
        "from sklearn.model_selection import train_test_split\n",
        "X_train, X_test, Y_train, Y_test = train_test_split(X, Y, test_size=0.33, random_state=44, shuffle=True)\n",
        "\n",
        "# Scale the data\n",
        "from sklearn.preprocessing import StandardScaler\n",
        "sc = StandardScaler()\n",
        "X_train = sc.fit_transform(X_train)\n",
        "X_test = sc.fit_transform(X_test)\n",
        "test = sc.fit_transform(test)"
      ],
      "execution_count": 25,
      "outputs": []
    },
    {
      "cell_type": "markdown",
      "metadata": {
        "id": "zvREeFCwCkHX"
      },
      "source": [
        "# Task 2\r\n"
      ]
    },
    {
      "cell_type": "markdown",
      "metadata": {
        "id": "X-VmR0-MCkHY"
      },
      "source": [
        "## Part a"
      ]
    },
    {
      "cell_type": "markdown",
      "metadata": {
        "id": "ebuHI-QArWWS"
      },
      "source": [
        "**Simple Linear Regression with Regularization**"
      ]
    },
    {
      "cell_type": "markdown",
      "metadata": {
        "id": "OCHv7jcOrLgp"
      },
      "source": [
        ""
      ]
    },
    {
      "cell_type": "code",
      "metadata": {
        "id": "HmZHrvZUCkHa",
        "colab": {
          "base_uri": "https://localhost:8080/"
        },
        "outputId": "58614cbc-8b0a-4319-f420-a0f217c82209"
      },
      "source": [
        "from sklearn.linear_model import ElasticNet\n",
        "\n",
        "regr = ElasticNet(random_state=0)\n",
        "regr.fit(X_train, Y_train)\n",
        "\n",
        "print(\"Simple Linear Regression (L1 + L2) score:\", regr.score(X_test, Y_test))"
      ],
      "execution_count": 26,
      "outputs": [
        {
          "output_type": "stream",
          "text": [
            "Simple Linear Regression (L1 + L2) score: 0.8364044649280067\n"
          ],
          "name": "stdout"
        }
      ]
    },
    {
      "cell_type": "markdown",
      "metadata": {
        "id": "oLTP_XjRCkHb"
      },
      "source": [
        "## Part b"
      ]
    },
    {
      "cell_type": "markdown",
      "metadata": {
        "id": "z1TKEQBmrgpA"
      },
      "source": [
        "**Decision Tree**"
      ]
    },
    {
      "cell_type": "code",
      "metadata": {
        "id": "qwHK67slCkHc",
        "colab": {
          "base_uri": "https://localhost:8080/"
        },
        "outputId": "64630983-d12f-4a4d-bdbe-6859f5e3d2a8"
      },
      "source": [
        "from sklearn.tree import DecisionTreeRegressor\n",
        "\n",
        "decision_tree = DecisionTreeRegressor(random_state=2, max_depth=2)\n",
        "decision_tree = decision_tree.fit(X_train, Y_train)\n",
        "\n",
        "print(\"Decision Tree with max depth restriction score:\", decision_tree.score(X_test, Y_test))\n",
        "\n",
        "decision_tree = DecisionTreeRegressor(random_state=2)\n",
        "decision_tree = decision_tree.fit(X_train, Y_train)\n",
        "\n",
        "print(\"Decision Tree without max depth restriction score:\", decision_tree.score(X_test, Y_test))"
      ],
      "execution_count": 27,
      "outputs": [
        {
          "output_type": "stream",
          "text": [
            "Decision Tree with max depth restriction score: 0.5624024408855082\n",
            "Decision Tree without max depth restriction score: 0.7253745384095776\n"
          ],
          "name": "stdout"
        }
      ]
    },
    {
      "cell_type": "markdown",
      "metadata": {
        "id": "B9WK9WrXCkHd"
      },
      "source": [
        "## Part c"
      ]
    },
    {
      "cell_type": "markdown",
      "metadata": {
        "id": "gHvznWTNrmsb"
      },
      "source": [
        "**Random Forest**"
      ]
    },
    {
      "cell_type": "code",
      "metadata": {
        "id": "r6iVkfkNCkHe",
        "colab": {
          "base_uri": "https://localhost:8080/"
        },
        "outputId": "b2218d66-5864-4a17-8d9a-8cfc99a6e77c"
      },
      "source": [
        "from sklearn.ensemble import RandomForestRegressor\n",
        "\n",
        "rfc = RandomForestRegressor(n_estimators=50, random_state=0)\n",
        "rfc.fit(X_train, Y_train)\n",
        "\n",
        "print(\"Random forest (50 estimators) score:\", rfc.score(X_test, Y_test))\n",
        "\n",
        "rfc = RandomForestRegressor(n_estimators=100, random_state=0)\n",
        "rfc.fit(X_train, Y_train)\n",
        "\n",
        "print(\"Random forest (100 estimators) score:\", rfc.score(X_test, Y_test))\n",
        "\n",
        "rfc = RandomForestRegressor(n_estimators=150, random_state=0)\n",
        "rfc.fit(X_train, Y_train)\n",
        "\n",
        "print(\"Random forest (150 estimators) score:\", rfc.score(X_test, Y_test))\n",
        "\n",
        "rfc = RandomForestRegressor(n_estimators=200, random_state=0)\n",
        "rfc.fit(X_train, Y_train)\n",
        "\n",
        "print(\"Random forest (200 estimators) score:\", rfc.score(X_test, Y_test))"
      ],
      "execution_count": 28,
      "outputs": [
        {
          "output_type": "stream",
          "text": [
            "Random forest (50 estimators) score: 0.8141398949608062\n",
            "Random forest (100 estimators) score: 0.8232626162026526\n",
            "Random forest (150 estimators) score: 0.8251756044581694\n",
            "Random forest (200 estimators) score: 0.8256981179551016\n"
          ],
          "name": "stdout"
        }
      ]
    },
    {
      "cell_type": "markdown",
      "metadata": {
        "id": "QyPMANzJCkHh"
      },
      "source": [
        "# Task 3"
      ]
    },
    {
      "cell_type": "markdown",
      "metadata": {
        "id": "vmIKDGcIseXf"
      },
      "source": [
        "**Perform PCA and then apply decision tree algorithm Comparing the result**"
      ]
    },
    {
      "cell_type": "code",
      "metadata": {
        "id": "fk0Vbp1vCkHh",
        "colab": {
          "base_uri": "https://localhost:8080/"
        },
        "outputId": "ec3f8a97-aebd-4468-b2f7-69e0024a7355"
      },
      "source": [
        "from sklearn.decomposition import PCA\n",
        "\n",
        "pca = PCA(n_components = 73)\n",
        "\n",
        "decision_tree = DecisionTreeRegressor(random_state=2)\n",
        "decision_tree = decision_tree.fit(pca.fit_transform(X_train), Y_train)\n",
        "\n",
        "print(\"Decision Tree with max depth restriction score:\", decision_tree.score(pca.transform(X_test), Y_test))"
      ],
      "execution_count": 29,
      "outputs": [
        {
          "output_type": "stream",
          "text": [
            "Decision Tree with max depth restriction score: 0.7357016335112224\n"
          ],
          "name": "stdout"
        }
      ]
    },
    {
      "cell_type": "markdown",
      "metadata": {
        "id": "OP_QN1iHCkHi"
      },
      "source": [
        "**No, performing PCA and applying Decision Tree algorithm doesn't produce better result than that of the tasks performed in 1(a). However, performing PCA does improve the result of Decision Tree algorithm itself.**"
      ]
    },
    {
      "cell_type": "markdown",
      "metadata": {
        "id": "liWvFadQCkHj"
      },
      "source": [
        "# Task 4"
      ]
    },
    {
      "cell_type": "markdown",
      "metadata": {
        "id": "Cvn3TD03CkHp"
      },
      "source": [
        "## Generating CSV for Submitting to Kaggle"
      ]
    },
    {
      "cell_type": "code",
      "metadata": {
        "id": "OzORmytKCkHr",
        "colab": {
          "base_uri": "https://localhost:8080/"
        },
        "outputId": "fc9a9024-ab52-4242-f70f-24fa0b54a094"
      },
      "source": [
        "predictions = regr.predict(test)\n",
        "submission = pd.DataFrame({'Id': test_ids, 'SalePrice': predictions})\n",
        "\n",
        "filename = 'HousePricePredictions.csv'\n",
        "submission.to_csv(filename,index=False)\n",
        "print('Saved file: ' + filename)"
      ],
      "execution_count": 30,
      "outputs": [
        {
          "output_type": "stream",
          "text": [
            "Saved file: HousePricePredictions.csv\n"
          ],
          "name": "stdout"
        }
      ]
    }
  ]
}